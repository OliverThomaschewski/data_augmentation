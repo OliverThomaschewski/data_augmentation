{
 "cells": [
  {
   "cell_type": "markdown",
   "metadata": {},
   "source": [
    "# Data Augmentation\n",
    "___\n",
    "by Oliver Thomaschewski (Matrikelnummer) and Lisa-Marlen Wiegandt (572770)"
   ]
  },
  {
   "cell_type": "markdown",
   "metadata": {},
   "source": [
    "## Table of content\n",
    "___\n",
    "1. [What is data augmentation](#What-is-data-augmentation)\n",
    "1. [Why use data augmentation](#why-use-data-augmentation)\n",
    "    2. Challenges\n",
    "    2. Use Cases\n",
    "1. [Example: Image augmentation](#Image-augmentation)\n",
    "    2. Simple transformations\n",
    "    2. Advanced techniques\n",
    "1. [Sources](#Sources)"
   ]
  },
  {
   "cell_type": "markdown",
   "metadata": {},
   "source": [
    "## What is data augmentation\n",
    "___\n",
    "* artificially increase of data set\n",
    "* synthesizing new data from given data\n",
    "    * amount of data increased\n",
    "    * diversity of data increased\n"
   ]
  },
  {
   "cell_type": "markdown",
   "metadata": {},
   "source": [
    "## Why use data augmentation\n",
    "___\n",
    "* prediction accuracy based on amount and diversity of training data\n",
    "* therefore imporving prediction (best case)\n",
    "* reducing cost of collecting and labeling data\n",
    "* preventing data privacy problems\n",
    "    \n",
    "#### Challenges\n",
    "* useful augmentation\n",
    "* needs to analyze output quality of augmentation\n",
    "* reproducing biases from original dataset  \n",
    "\n",
    "#### Use Cases\n",
    "\n",
    "* Small dataset for medical images, especially for rare diseases\n",
    "* due to data privacy regulations data is not given"
   ]
  },
  {
   "cell_type": "markdown",
   "metadata": {},
   "source": [
    "## Image augmentation\n",
    "___\n",
    "* simple alteration popular \n",
    "* or generation of new synthetic data with more advanced techniques"
   ]
  },
  {
   "cell_type": "markdown",
   "metadata": {},
   "source": [
    "Some examples of data augmentation with torchvision.transforms\n",
    "\n",
    "we start with one picture ##maybe htw picture ??????"
   ]
  },
  {
   "cell_type": "code",
   "execution_count": 1,
   "metadata": {},
   "outputs": [],
   "source": [
    "from PIL import Image\n",
    "import PIL\n",
    "from pathlib import Path\n",
    "import matplotlib.pyplot as plt\n",
    "import numpy as np\n",
    "import sys\n",
    "import torch\n",
    "import numpy as np\n",
    "import torchvision.transforms as T"
   ]
  },
  {
   "cell_type": "markdown",
   "metadata": {},
   "source": [
    "### Simple transformation"
   ]
  },
  {
   "cell_type": "markdown",
   "metadata": {},
   "source": [
    "Image to Gray Scale"
   ]
  },
  {
   "cell_type": "code",
   "execution_count": 2,
   "metadata": {},
   "outputs": [],
   "source": [
    "orig_img = Image.open(Path(\"images\\pexels-eva-bronzini-5502308.jpg\"))\n",
    "gray_img = T.Grayscale()(orig_img)\n",
    "gray_img.save(\"images\\img_gray.jpg\")"
   ]
  },
  {
   "cell_type": "markdown",
   "metadata": {},
   "source": [
    "### Advanced techniques"
   ]
  },
  {
   "cell_type": "markdown",
   "metadata": {},
   "source": [
    "Add Gaussian Blur"
   ]
  },
  {
   "cell_type": "code",
   "execution_count": 3,
   "metadata": {
    "scrolled": true
   },
   "outputs": [
    {
     "ename": "AttributeError",
     "evalue": "'list' object has no attribute 'save'",
     "output_type": "error",
     "traceback": [
      "\u001b[1;31m---------------------------------------------------------------------------\u001b[0m",
      "\u001b[1;31mAttributeError\u001b[0m                            Traceback (most recent call last)",
      "Input \u001b[1;32mIn [3]\u001b[0m, in \u001b[0;36m<cell line: 2>\u001b[1;34m()\u001b[0m\n\u001b[0;32m      1\u001b[0m blurred_imgs \u001b[38;5;241m=\u001b[39m [T\u001b[38;5;241m.\u001b[39mGaussianBlur(kernel_size\u001b[38;5;241m=\u001b[39m(\u001b[38;5;241m51\u001b[39m, \u001b[38;5;241m91\u001b[39m), sigma\u001b[38;5;241m=\u001b[39msigma)(orig_img) \u001b[38;5;28;01mfor\u001b[39;00m sigma \u001b[38;5;129;01min\u001b[39;00m (\u001b[38;5;241m3\u001b[39m,\u001b[38;5;241m7\u001b[39m)]\n\u001b[1;32m----> 2\u001b[0m \u001b[43mblurred_imgs\u001b[49m\u001b[38;5;241;43m.\u001b[39;49m\u001b[43msave\u001b[49m(\u001b[38;5;124m\"\u001b[39m\u001b[38;5;124mimages\u001b[39m\u001b[38;5;124m\\\u001b[39m\u001b[38;5;124mimg_blur.jpg\u001b[39m\u001b[38;5;124m\"\u001b[39m)\n",
      "\u001b[1;31mAttributeError\u001b[0m: 'list' object has no attribute 'save'"
     ]
    }
   ],
   "source": [
    "blurred_imgs = [T.GaussianBlur(kernel_size=(51, 91), sigma=sigma)(orig_img) for sigma in (3,7)]\n",
    "blurred_imgs.save(\"images\\img_blur.jpg\")"
   ]
  },
  {
   "cell_type": "markdown",
   "metadata": {},
   "source": [
    "## Sources\n",
    "\n",
    "first \n",
    "https://www.mygreatlearning.com/blog/understanding-data-augmentation/\n",
    "https://research.aimultiple.com/data-augmentation/\n",
    "\n",
    "second\n",
    "https://snapstack.cz/data-augmentation-advantages-challenges-and-instances/\n",
    "https://research.aimultiple.com/data-augmentation/\n",
    "\n",
    "third\n",
    "https://towardsdatascience.com/a-comprehensive-guide-to-image-augmentation-using-pytorch-fb162f2444be"
   ]
  }
 ],
 "metadata": {
  "kernelspec": {
   "display_name": "Python 3 (ipykernel)",
   "language": "python",
   "name": "python3"
  },
  "language_info": {
   "codemirror_mode": {
    "name": "ipython",
    "version": 3
   },
   "file_extension": ".py",
   "mimetype": "text/x-python",
   "name": "python",
   "nbconvert_exporter": "python",
   "pygments_lexer": "ipython3",
   "version": "3.9.12"
  },
  "vscode": {
   "interpreter": {
    "hash": "75993ab2b49036cadd476b97bc353bfc628d81ff23efd854332b94743c4a2258"
   }
  }
 },
 "nbformat": 4,
 "nbformat_minor": 2
}
