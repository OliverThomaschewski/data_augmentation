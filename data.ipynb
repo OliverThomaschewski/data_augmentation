{
 "cells": [
  {
   "cell_type": "markdown",
   "metadata": {},
   "source": [
    "# Data Augmentation\n",
    "___\n",
    "by Oliver Thomaschewski (Matrikelnummer) and Lisa-Marlen Wiegandt (572770)"
   ]
  },
  {
   "cell_type": "markdown",
   "metadata": {},
   "source": [
    "## Table of content\n",
    "___\n",
    "1. [What is data augmentation](#What-is-data-augmentation)\n",
    "1. [Why data augmentation](#Why-data-augmentation)\n",
    "    2. Challenges\n",
    "    2. Use Cases\n",
    "1. [Usefulness of data augmentation](#Usefulness-of-augmentation)\n",
    "1. [Example: Image augmentation](#Image-augmentation)\n",
    "    2. Simple transformations\n",
    "    2. Advanced techniques\n",
    "1. [Sources](#Sources)"
   ]
  },
  {
   "cell_type": "markdown",
   "metadata": {},
   "source": [
    "## What is data augmentation\n",
    "___\n",
    "* artificially increase of data set\n",
    "* synthesizing new data from given data\n",
    "    * amount of data increased\n",
    "    * diversity of data increased\n"
   ]
  },
  {
   "cell_type": "markdown",
   "metadata": {},
   "source": [
    "## Why data augmentation\n",
    "___\n",
    "* prediction accuracy based on amount and diversity of training data\n",
    "* therefore imporving prediction (best case)\n",
    "* reducing cost of collecting and labeling data\n",
    "* preventing data privacy problems\n",
    "    \n",
    "#### Challenges\n",
    "* useful augmentation\n",
    "* needs to analyze output quality of augmentation\n",
    "* reproducing biases from original dataset  \n",
    "\n",
    "#### Use Cases\n",
    "\n",
    "* Small dataset for medical images, especially for rare diseases\n",
    "* due to data privacy regulations data is not given"
   ]
  },
  {
   "cell_type": "markdown",
   "metadata": {},
   "source": [
    "## Usefulness of data augmentation\n",
    "___\n",
    "* comparison augmented dataset with no agmented dataset via base line model\n",
    "* Image classification without augmentation useless\n",
    "\n",
    "> Reminder: a baseline model uses heuristics, simple summary statistics, randomness, or machine learning for predictions"
   ]
  },
  {
   "cell_type": "code",
   "execution_count": 1,
   "metadata": {},
   "outputs": [
    {
     "ename": "ModuleNotFoundError",
     "evalue": "No module named 'tensorflow'",
     "output_type": "error",
     "traceback": [
      "\u001b[1;31m---------------------------------------------------------------------------\u001b[0m",
      "\u001b[1;31mModuleNotFoundError\u001b[0m                       Traceback (most recent call last)",
      "Input \u001b[1;32mIn [1]\u001b[0m, in \u001b[0;36m<cell line: 2>\u001b[1;34m()\u001b[0m\n\u001b[0;32m      1\u001b[0m \u001b[38;5;28;01mimport\u001b[39;00m \u001b[38;5;21;01mnumpy\u001b[39;00m \u001b[38;5;28;01mas\u001b[39;00m \u001b[38;5;21;01mnp\u001b[39;00m\n\u001b[1;32m----> 2\u001b[0m \u001b[38;5;28;01mfrom\u001b[39;00m \u001b[38;5;21;01mkeras\u001b[39;00m\u001b[38;5;21;01m.\u001b[39;00m\u001b[38;5;21;01mutils\u001b[39;00m \u001b[38;5;28;01mimport\u001b[39;00m np_utils\n\u001b[0;32m      3\u001b[0m \u001b[38;5;28;01mfrom\u001b[39;00m \u001b[38;5;21;01mkeras\u001b[39;00m\u001b[38;5;21;01m.\u001b[39;00m\u001b[38;5;21;01mdatasets\u001b[39;00m \u001b[38;5;28;01mimport\u001b[39;00m fashion_mnist\n\u001b[0;32m      5\u001b[0m (X_train, y_train), (X_test, y_test) \u001b[38;5;241m=\u001b[39m fashion_mnist\u001b[38;5;241m.\u001b[39mload_data()\n",
      "File \u001b[1;32mC:\\ProgramData\\Anaconda3\\lib\\site-packages\\keras\\__init__.py:21\u001b[0m, in \u001b[0;36m<module>\u001b[1;34m\u001b[0m\n\u001b[0;32m     15\u001b[0m \u001b[38;5;124;03m\"\"\"Implementation of the Keras API, the high-level API of TensorFlow.\u001b[39;00m\n\u001b[0;32m     16\u001b[0m \n\u001b[0;32m     17\u001b[0m \u001b[38;5;124;03mDetailed documentation and user guides are available at\u001b[39;00m\n\u001b[0;32m     18\u001b[0m \u001b[38;5;124;03m[keras.io](https://keras.io).\u001b[39;00m\n\u001b[0;32m     19\u001b[0m \u001b[38;5;124;03m\"\"\"\u001b[39;00m\n\u001b[0;32m     20\u001b[0m \u001b[38;5;66;03m# pylint: disable=unused-import\u001b[39;00m\n\u001b[1;32m---> 21\u001b[0m \u001b[38;5;28;01mfrom\u001b[39;00m \u001b[38;5;21;01mtensorflow\u001b[39;00m\u001b[38;5;21;01m.\u001b[39;00m\u001b[38;5;21;01mpython\u001b[39;00m \u001b[38;5;28;01mimport\u001b[39;00m tf2\n\u001b[0;32m     22\u001b[0m \u001b[38;5;28;01mfrom\u001b[39;00m \u001b[38;5;21;01mkeras\u001b[39;00m \u001b[38;5;28;01mimport\u001b[39;00m distribute\n\u001b[0;32m     24\u001b[0m \u001b[38;5;66;03m# See b/110718070#comment18 for more details about this import.\u001b[39;00m\n",
      "\u001b[1;31mModuleNotFoundError\u001b[0m: No module named 'tensorflow'"
     ]
    }
   ],
   "source": [
    "import numpy as np\n",
    "from keras.utils import np_utils\n",
    "from keras.datasets import fashion_mnist\n",
    "\n",
    "(X_train, y_train), (X_test, y_test) = fashion_mnist.load_data()\n",
    "\n",
    "%matplotlib inline\n",
    "import matplotlib.pyplot as plt\n",
    "\n",
    "plt.figure(figsize=(10, 10))\n",
    "for i in range(5):\n",
    "    plt.subplot(1, 5, i+1)\n",
    "    plt.imshow(X_test[i]) \n",
    "    plt.axis('off')\n",
    "plt.show()\n",
    "print('Labels: %s' %(y_test[0:5]))\n",
    "\n",
    "#https://analyticsindiamag.com/image-data-augmentation-impacts-performance-of-image-classification-with-codes/"
   ]
  },
  {
   "cell_type": "markdown",
   "metadata": {},
   "source": [
    "## Image augmentation\n",
    "___\n",
    "* simple alteration popular \n",
    "* or generation of new synthetic data with more advanced techniques"
   ]
  },
  {
   "cell_type": "markdown",
   "metadata": {},
   "source": [
    "Some examples of data augmentation with torchvision.transforms\n",
    "\n",
    "we start with one picture ##maybe htw picture ??????"
   ]
  },
  {
   "cell_type": "code",
   "execution_count": null,
   "metadata": {},
   "outputs": [],
   "source": [
    "from PIL import Image\n",
    "import PIL\n",
    "from pathlib import Path\n",
    "import matplotlib.pyplot as plt\n",
    "import numpy as np\n",
    "import sys\n",
    "import torch\n",
    "import numpy as np\n",
    "import torchvision.transforms as T"
   ]
  },
  {
   "cell_type": "markdown",
   "metadata": {},
   "source": [
    "### Simple transformation"
   ]
  },
  {
   "cell_type": "markdown",
   "metadata": {},
   "source": [
    "Image to Gray Scale"
   ]
  },
  {
   "cell_type": "code",
   "execution_count": null,
   "metadata": {},
   "outputs": [],
   "source": [
    "orig_img = Image.open(Path(\"images\\pexels-eva-bronzini-5502308.jpg\"))\n",
    "gray_img = T.Grayscale()(orig_img)\n",
    "gray_img.save(\"images\\img_gray.jpg\")"
   ]
  },
  {
   "cell_type": "markdown",
   "metadata": {},
   "source": [
    "### Advanced techniques"
   ]
  },
  {
   "cell_type": "markdown",
   "metadata": {},
   "source": [
    "Add Gaussian Blur"
   ]
  },
  {
   "cell_type": "code",
   "execution_count": null,
   "metadata": {
    "scrolled": true
   },
   "outputs": [],
   "source": [
    "blurred_imgs = [T.GaussianBlur(kernel_size=(51, 91), sigma=sigma)(orig_img) for sigma in (3,7)]\n",
    "blurred_imgs.save(\"images\\img_blur.jpg\")"
   ]
  },
  {
   "cell_type": "markdown",
   "metadata": {},
   "source": [
    "## Sources\n",
    "\n",
    "first \n",
    "https://www.mygreatlearning.com/blog/understanding-data-augmentation/\n",
    "https://research.aimultiple.com/data-augmentation/\n",
    "\n",
    "second\n",
    "https://snapstack.cz/data-augmentation-advantages-challenges-and-instances/\n",
    "https://research.aimultiple.com/data-augmentation/\n",
    "\n",
    "third\n",
    "https://towardsdatascience.com/augmentation-for-image-classification-24ffcbc38833\n",
    "\n",
    "fourth\n",
    "https://towardsdatascience.com/a-comprehensive-guide-to-image-augmentation-using-pytorch-fb162f2444be"
   ]
  }
 ],
 "metadata": {
  "kernelspec": {
   "display_name": "Python 3 (ipykernel)",
   "language": "python",
   "name": "python3"
  },
  "language_info": {
   "codemirror_mode": {
    "name": "ipython",
    "version": 3
   },
   "file_extension": ".py",
   "mimetype": "text/x-python",
   "name": "python",
   "nbconvert_exporter": "python",
   "pygments_lexer": "ipython3",
   "version": "3.9.12"
  },
  "vscode": {
   "interpreter": {
    "hash": "75993ab2b49036cadd476b97bc353bfc628d81ff23efd854332b94743c4a2258"
   }
  }
 },
 "nbformat": 4,
 "nbformat_minor": 2
}
