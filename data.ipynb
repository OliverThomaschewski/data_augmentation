{
 "cells": [
  {
   "cell_type": "markdown",
   "metadata": {},
   "source": [
    "Image Data Augmentation\n",
    "\n",
    "Source: https://towardsdatascience.com/a-comprehensive-guide-to-image-augmentation-using-pytorch-fb162f2444be"
   ]
  },
  {
   "cell_type": "code",
   "execution_count": 18,
   "metadata": {},
   "outputs": [],
   "source": [
    "\n",
    "from PIL import Image\n",
    "import PIL\n",
    "from pathlib import Path\n",
    "import matplotlib.pyplot as plt\n",
    "import numpy as np\n",
    "import sys\n",
    "import torch\n",
    "import numpy as np\n",
    "import torchvision.transforms as T\n"
   ]
  },
  {
   "cell_type": "markdown",
   "metadata": {},
   "source": [
    "Image to Gray Scale"
   ]
  },
  {
   "cell_type": "code",
   "execution_count": 26,
   "metadata": {},
   "outputs": [],
   "source": [
    "orig_img = Image.open(Path(\"images\\pexels-eva-bronzini-5502308.jpg\"))\n",
    "gray_img = T.Grayscale()(orig_img)\n",
    "gray_img.save(\"images\\img_gray.jpg\")"
   ]
  },
  {
   "cell_type": "markdown",
   "metadata": {},
   "source": [
    "Add Gaussian Blur"
   ]
  },
  {
   "cell_type": "code",
   "execution_count": 25,
   "metadata": {},
   "outputs": [
    {
     "ename": "RuntimeError",
     "evalue": "Could not infer dtype of numpy.uint8",
     "output_type": "error",
     "traceback": [
      "\u001b[1;31m---------------------------------------------------------------------------\u001b[0m",
      "\u001b[1;31mRuntimeError\u001b[0m                              Traceback (most recent call last)",
      "\u001b[1;32mc:\\Users\\othom\\Documents\\GitHub\\data_augmentation\\data.ipynb Zelle 6\u001b[0m in \u001b[0;36m<cell line: 1>\u001b[1;34m()\u001b[0m\n\u001b[1;32m----> <a href='vscode-notebook-cell:/c%3A/Users/othom/Documents/GitHub/data_augmentation/data.ipynb#X15sZmlsZQ%3D%3D?line=0'>1</a>\u001b[0m blurred_imgs \u001b[39m=\u001b[39m [T\u001b[39m.\u001b[39mGaussianBlur(kernel_size\u001b[39m=\u001b[39m(\u001b[39m51\u001b[39m, \u001b[39m91\u001b[39m), sigma\u001b[39m=\u001b[39msigma)(orig_img) \u001b[39mfor\u001b[39;00m sigma \u001b[39min\u001b[39;00m (\u001b[39m3\u001b[39m,\u001b[39m7\u001b[39m)]\n\u001b[0;32m      <a href='vscode-notebook-cell:/c%3A/Users/othom/Documents/GitHub/data_augmentation/data.ipynb#X15sZmlsZQ%3D%3D?line=1'>2</a>\u001b[0m blurred_imgs\u001b[39m.\u001b[39msave(\u001b[39m\"\u001b[39m\u001b[39mimages\u001b[39m\u001b[39m\\\u001b[39m\u001b[39mimg_blur.jpg\u001b[39m\u001b[39m\"\u001b[39m)\n",
      "\u001b[1;32mc:\\Users\\othom\\Documents\\GitHub\\data_augmentation\\data.ipynb Zelle 6\u001b[0m in \u001b[0;36m<listcomp>\u001b[1;34m(.0)\u001b[0m\n\u001b[1;32m----> <a href='vscode-notebook-cell:/c%3A/Users/othom/Documents/GitHub/data_augmentation/data.ipynb#X15sZmlsZQ%3D%3D?line=0'>1</a>\u001b[0m blurred_imgs \u001b[39m=\u001b[39m [T\u001b[39m.\u001b[39;49mGaussianBlur(kernel_size\u001b[39m=\u001b[39;49m(\u001b[39m51\u001b[39;49m, \u001b[39m91\u001b[39;49m), sigma\u001b[39m=\u001b[39;49msigma)(orig_img) \u001b[39mfor\u001b[39;00m sigma \u001b[39min\u001b[39;00m (\u001b[39m3\u001b[39m,\u001b[39m7\u001b[39m)]\n\u001b[0;32m      <a href='vscode-notebook-cell:/c%3A/Users/othom/Documents/GitHub/data_augmentation/data.ipynb#X15sZmlsZQ%3D%3D?line=1'>2</a>\u001b[0m blurred_imgs\u001b[39m.\u001b[39msave(\u001b[39m\"\u001b[39m\u001b[39mimages\u001b[39m\u001b[39m\\\u001b[39m\u001b[39mimg_blur.jpg\u001b[39m\u001b[39m\"\u001b[39m)\n",
      "File \u001b[1;32mc:\\Users\\othom\\AppData\\Local\\Programs\\Python\\Python310\\lib\\site-packages\\torch\\nn\\modules\\module.py:1130\u001b[0m, in \u001b[0;36mModule._call_impl\u001b[1;34m(self, *input, **kwargs)\u001b[0m\n\u001b[0;32m   1126\u001b[0m \u001b[39m# If we don't have any hooks, we want to skip the rest of the logic in\u001b[39;00m\n\u001b[0;32m   1127\u001b[0m \u001b[39m# this function, and just call forward.\u001b[39;00m\n\u001b[0;32m   1128\u001b[0m \u001b[39mif\u001b[39;00m \u001b[39mnot\u001b[39;00m (\u001b[39mself\u001b[39m\u001b[39m.\u001b[39m_backward_hooks \u001b[39mor\u001b[39;00m \u001b[39mself\u001b[39m\u001b[39m.\u001b[39m_forward_hooks \u001b[39mor\u001b[39;00m \u001b[39mself\u001b[39m\u001b[39m.\u001b[39m_forward_pre_hooks \u001b[39mor\u001b[39;00m _global_backward_hooks\n\u001b[0;32m   1129\u001b[0m         \u001b[39mor\u001b[39;00m _global_forward_hooks \u001b[39mor\u001b[39;00m _global_forward_pre_hooks):\n\u001b[1;32m-> 1130\u001b[0m     \u001b[39mreturn\u001b[39;00m forward_call(\u001b[39m*\u001b[39m\u001b[39minput\u001b[39m, \u001b[39m*\u001b[39m\u001b[39m*\u001b[39mkwargs)\n\u001b[0;32m   1131\u001b[0m \u001b[39m# Do not call functions when jit is used\u001b[39;00m\n\u001b[0;32m   1132\u001b[0m full_backward_hooks, non_full_backward_hooks \u001b[39m=\u001b[39m [], []\n",
      "File \u001b[1;32mc:\\Users\\othom\\AppData\\Local\\Programs\\Python\\Python310\\lib\\site-packages\\torchvision\\transforms\\transforms.py:1823\u001b[0m, in \u001b[0;36mGaussianBlur.forward\u001b[1;34m(self, img)\u001b[0m\n\u001b[0;32m   1815\u001b[0m \u001b[39m\"\"\"\u001b[39;00m\n\u001b[0;32m   1816\u001b[0m \u001b[39mArgs:\u001b[39;00m\n\u001b[0;32m   1817\u001b[0m \u001b[39m    img (PIL Image or Tensor): image to be blurred.\u001b[39;00m\n\u001b[1;32m   (...)\u001b[0m\n\u001b[0;32m   1820\u001b[0m \u001b[39m    PIL Image or Tensor: Gaussian blurred image\u001b[39;00m\n\u001b[0;32m   1821\u001b[0m \u001b[39m\"\"\"\u001b[39;00m\n\u001b[0;32m   1822\u001b[0m sigma \u001b[39m=\u001b[39m \u001b[39mself\u001b[39m\u001b[39m.\u001b[39mget_params(\u001b[39mself\u001b[39m\u001b[39m.\u001b[39msigma[\u001b[39m0\u001b[39m], \u001b[39mself\u001b[39m\u001b[39m.\u001b[39msigma[\u001b[39m1\u001b[39m])\n\u001b[1;32m-> 1823\u001b[0m \u001b[39mreturn\u001b[39;00m F\u001b[39m.\u001b[39;49mgaussian_blur(img, \u001b[39mself\u001b[39;49m\u001b[39m.\u001b[39;49mkernel_size, [sigma, sigma])\n",
      "File \u001b[1;32mc:\\Users\\othom\\AppData\\Local\\Programs\\Python\\Python310\\lib\\site-packages\\torchvision\\transforms\\functional.py:1349\u001b[0m, in \u001b[0;36mgaussian_blur\u001b[1;34m(img, kernel_size, sigma)\u001b[0m\n\u001b[0;32m   1346\u001b[0m     \u001b[39mif\u001b[39;00m \u001b[39mnot\u001b[39;00m F_pil\u001b[39m.\u001b[39m_is_pil_image(img):\n\u001b[0;32m   1347\u001b[0m         \u001b[39mraise\u001b[39;00m \u001b[39mTypeError\u001b[39;00m(\u001b[39mf\u001b[39m\u001b[39m\"\u001b[39m\u001b[39mimg should be PIL Image or Tensor. Got \u001b[39m\u001b[39m{\u001b[39;00m\u001b[39mtype\u001b[39m(img)\u001b[39m}\u001b[39;00m\u001b[39m\"\u001b[39m)\n\u001b[1;32m-> 1349\u001b[0m     t_img \u001b[39m=\u001b[39m pil_to_tensor(img)\n\u001b[0;32m   1351\u001b[0m output \u001b[39m=\u001b[39m F_t\u001b[39m.\u001b[39mgaussian_blur(t_img, kernel_size, sigma)\n\u001b[0;32m   1353\u001b[0m \u001b[39mif\u001b[39;00m \u001b[39mnot\u001b[39;00m \u001b[39misinstance\u001b[39m(img, torch\u001b[39m.\u001b[39mTensor):\n",
      "File \u001b[1;32mc:\\Users\\othom\\AppData\\Local\\Programs\\Python\\Python310\\lib\\site-packages\\torchvision\\transforms\\functional.py:205\u001b[0m, in \u001b[0;36mpil_to_tensor\u001b[1;34m(pic)\u001b[0m\n\u001b[0;32m    202\u001b[0m     \u001b[39mreturn\u001b[39;00m torch\u001b[39m.\u001b[39mas_tensor(nppic)\n\u001b[0;32m    204\u001b[0m \u001b[39m# handle PIL Image\u001b[39;00m\n\u001b[1;32m--> 205\u001b[0m img \u001b[39m=\u001b[39m torch\u001b[39m.\u001b[39;49mas_tensor(np\u001b[39m.\u001b[39;49marray(pic, copy\u001b[39m=\u001b[39;49m\u001b[39mTrue\u001b[39;49;00m))\n\u001b[0;32m    206\u001b[0m img \u001b[39m=\u001b[39m img\u001b[39m.\u001b[39mview(pic\u001b[39m.\u001b[39msize[\u001b[39m1\u001b[39m], pic\u001b[39m.\u001b[39msize[\u001b[39m0\u001b[39m], \u001b[39mlen\u001b[39m(pic\u001b[39m.\u001b[39mgetbands()))\n\u001b[0;32m    207\u001b[0m \u001b[39m# put it from HWC to CHW format\u001b[39;00m\n",
      "\u001b[1;31mRuntimeError\u001b[0m: Could not infer dtype of numpy.uint8"
     ]
    }
   ],
   "source": [
    "blurred_imgs = [T.GaussianBlur(kernel_size=(51, 91), sigma=sigma)(orig_img) for sigma in (3,7)]\n",
    "blurred_imgs.save(\"images\\img_blur.jpg\")"
   ]
  }
 ],
 "metadata": {
  "kernelspec": {
   "display_name": "Python 3.10.4 64-bit",
   "language": "python",
   "name": "python3"
  },
  "language_info": {
   "codemirror_mode": {
    "name": "ipython",
    "version": 3
   },
   "file_extension": ".py",
   "mimetype": "text/x-python",
   "name": "python",
   "nbconvert_exporter": "python",
   "pygments_lexer": "ipython3",
   "version": "3.10.4"
  },
  "orig_nbformat": 4,
  "vscode": {
   "interpreter": {
    "hash": "75993ab2b49036cadd476b97bc353bfc628d81ff23efd854332b94743c4a2258"
   }
  }
 },
 "nbformat": 4,
 "nbformat_minor": 2
}
