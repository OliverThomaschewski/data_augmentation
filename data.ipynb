{
 "cells": [
  {
   "cell_type": "markdown",
   "metadata": {},
   "source": [
    "# Data Augmentation\n",
    "___\n",
    "by Oliver Thomaschewski (584679) and Lisa-Marlen Wiegandt (572770)"
   ]
  },
  {
   "cell_type": "markdown",
   "metadata": {},
   "source": [
    "# Image augmentation"
   ]
  },
  {
   "cell_type": "code",
   "execution_count": null,
   "metadata": {},
   "outputs": [],
   "source": [
    "from PIL import Image\n",
    "import PIL\n",
    "from pathlib import Path\n",
    "import matplotlib.pyplot as plt\n",
    "import numpy as np\n",
    "import sys\n",
    "import torch\n",
    "import numpy as np\n",
    "import torchvision.transforms as T\n",
    "import torchvision.transforms.functional as TF\n"
   ]
  },
  {
   "cell_type": "markdown",
   "metadata": {},
   "source": [
    "## Transformation Examples"
   ]
  },
  {
   "cell_type": "code",
   "execution_count": null,
   "metadata": {},
   "outputs": [],
   "source": [
    "# Load Image\n",
    "\n",
    "orig_img = Image.open(Path(\"images/flower.png\"))\n",
    "img_width, img_height = orig_img.size\n",
    "orig_img\n"
   ]
  },
  {
   "cell_type": "markdown",
   "metadata": {},
   "source": [
    "### Grayscale"
   ]
  },
  {
   "cell_type": "code",
   "execution_count": null,
   "metadata": {},
   "outputs": [],
   "source": [
    "\n",
    "gray_img = T.Grayscale()(orig_img)\n",
    "gray_img"
   ]
  },
  {
   "cell_type": "markdown",
   "metadata": {},
   "source": [
    "### Flip"
   ]
  },
  {
   "cell_type": "code",
   "execution_count": null,
   "metadata": {},
   "outputs": [],
   "source": [
    "hflip_img = TF.hflip(orig_img)\n",
    "vflip_img = TF.vflip(orig_img)\n",
    "\n",
    "display(hflip_img, vflip_img)"
   ]
  },
  {
   "cell_type": "markdown",
   "metadata": {},
   "source": [
    "### Translate\n"
   ]
  },
  {
   "cell_type": "code",
   "execution_count": null,
   "metadata": {},
   "outputs": [],
   "source": [
    "translate_img = TF.affine(orig_img, angle = 0, translate=[100 ,40], scale=1, shear=0)\n",
    "translate_img"
   ]
  },
  {
   "cell_type": "markdown",
   "metadata": {},
   "source": [
    "### Rotate"
   ]
  },
  {
   "cell_type": "code",
   "execution_count": null,
   "metadata": {},
   "outputs": [],
   "source": [
    "rotate_img = TF.rotate(orig_img, angle = 45.0)\n",
    "rotate_img"
   ]
  },
  {
   "cell_type": "markdown",
   "metadata": {},
   "source": [
    "### Random affine\n",
    "    "
   ]
  },
  {
   "cell_type": "code",
   "execution_count": null,
   "metadata": {},
   "outputs": [],
   "source": [
    "affine_img = T.RandomAffine(degrees=(30,70), translate=(0.1, 0.3), scale=(1, 1.5))(orig_img)\n",
    "\n",
    "affine_img\n",
    "\n"
   ]
  },
  {
   "cell_type": "markdown",
   "metadata": {},
   "source": [
    "### Center cropping"
   ]
  },
  {
   "cell_type": "code",
   "execution_count": null,
   "metadata": {},
   "outputs": [],
   "source": [
    "crop_size = 200\n",
    "\n",
    "crop_img = T.CenterCrop(crop_size)(orig_img)\n",
    "crop_img = T.Resize(img_height)(crop_img)\n",
    "crop_img"
   ]
  },
  {
   "cell_type": "markdown",
   "metadata": {},
   "source": [
    "### Random Cropping"
   ]
  },
  {
   "cell_type": "code",
   "execution_count": null,
   "metadata": {},
   "outputs": [],
   "source": [
    "rand_crop_img = T.RandomCrop(200)(orig_img)\n",
    "rand_crop_img = T.Resize(img_height)(crop_img)\n",
    "rand_crop_img"
   ]
  },
  {
   "cell_type": "markdown",
   "metadata": {},
   "source": [
    "### Add Gaussian Blur"
   ]
  },
  {
   "cell_type": "code",
   "execution_count": null,
   "metadata": {
    "scrolled": true
   },
   "outputs": [],
   "source": [
    "blurred_img = T.GaussianBlur(kernel_size=(33,33), sigma=(2, 2))(orig_img) \n",
    "blurred_img"
   ]
  },
  {
   "cell_type": "markdown",
   "metadata": {},
   "source": [
    "### Perspective"
   ]
  },
  {
   "cell_type": "code",
   "execution_count": null,
   "metadata": {},
   "outputs": [],
   "source": [
    "pers_img = T.RandomPerspective( p=1)(orig_img)\n",
    "pers_img"
   ]
  },
  {
   "cell_type": "markdown",
   "metadata": {},
   "source": [
    "### Elastic Transformation"
   ]
  },
  {
   "cell_type": "code",
   "execution_count": null,
   "metadata": {},
   "outputs": [],
   "source": [
    "elastic_img = T.ElasticTransform(alpha= 400.0)(orig_img)\n",
    "elastic_img"
   ]
  },
  {
   "cell_type": "markdown",
   "metadata": {},
   "source": [
    "### ColorJitter "
   ]
  },
  {
   "cell_type": "code",
   "execution_count": null,
   "metadata": {},
   "outputs": [],
   "source": [
    "jitter_img = T.ColorJitter(brightness = 0.5, contrast=0.5, saturation=0.5)(orig_img)\n",
    "# HUE Sinnvoll?\n",
    "jitter_img"
   ]
  },
  {
   "cell_type": "markdown",
   "metadata": {},
   "source": [
    "### Random Augment  "
   ]
  },
  {
   "cell_type": "code",
   "execution_count": null,
   "metadata": {},
   "outputs": [],
   "source": [
    "rand_img = T.RandAugment(num_ops=25)(orig_img) # between 1 -25\n",
    "rand_img\n"
   ]
  },
  {
   "cell_type": "markdown",
   "metadata": {},
   "source": [
    "Compose"
   ]
  },
  {
   "cell_type": "code",
   "execution_count": null,
   "metadata": {},
   "outputs": [],
   "source": [
    "transforms = T.Compose([\n",
    "    T.CenterCrop(200),\n",
    "    T.Grayscale(),\n",
    "    T.Resize(img_width)\n",
    "])\n",
    "\n",
    "img = transforms(orig_img)\n",
    "img"
   ]
  },
  {
   "cell_type": "markdown",
   "metadata": {},
   "source": [
    "## Example Dataset"
   ]
  },
  {
   "cell_type": "code",
   "execution_count": null,
   "metadata": {},
   "outputs": [],
   "source": [
    "class Dataset(torch.utils.data.Dataset):\n",
    "    def __init__(self, data_name, transform):\n",
    "        self.data_name = data_name\n",
    "        self.transform = transform\n",
    "\n",
    "    def __len__(self):\n",
    "        return 1\n",
    "\n",
    "    def __getitem__(self, index):\n",
    "\n",
    "        data = self.data_name[index]\n",
    "        img = Image.open(Path(data))\n",
    "\n",
    "        \n",
    "        if self.transform:\n",
    "            img = self.transform(img)\n",
    "\n",
    "        return img"
   ]
  },
  {
   "cell_type": "code",
   "execution_count": null,
   "metadata": {},
   "outputs": [],
   "source": [
    "# Calculate mean of Dataset\n",
    "\n",
    "images = [\"test\\dog2.png\", \"test\\dog3.png\"]\n",
    "\n",
    "channels_sum, channels_squared_sum, num_batches = 0,0,len(images)\n",
    "for img in images:\n",
    "    img =  Image.open(Path(img))\n",
    "    img_t = T.ToTensor()(img)\n",
    "    channels_sum += img_t.mean([1,2])\n",
    "    channels_squared_sum += img_t.std([1,2])\n",
    "    \n",
    "    \n",
    "    mean = channels_sum / num_batches\n",
    "    std = (channels_squared_sum / num_batches - mean ** 2) ** 0.5\n",
    "\n",
    "mean, std\n",
    "\n",
    "    \n"
   ]
  },
  {
   "cell_type": "code",
   "execution_count": null,
   "metadata": {},
   "outputs": [],
   "source": [
    "my_transformations = T.Compose([\n",
    "    T.RandomGrayscale(0.5),\n",
    "    T.RandomCrop(150),\n",
    "    T.Resize(400),\n",
    "    T.ToTensor(),\n",
    "    T.Normalize((0.3815, 0.4058, 0.3888), (0.3337, 0.1591, 0.2570)),\n",
    "    T.ToPILImage()\n",
    "])"
   ]
  },
  {
   "cell_type": "code",
   "execution_count": null,
   "metadata": {},
   "outputs": [],
   "source": [
    "names =  [\"test\\dog2.png\", \"test\\dog3.png\"]\n",
    "dataset = Dataset(names, my_transformations )\n",
    "\n",
    "for img in dataset:\n",
    "    display(img)"
   ]
  },
  {
   "cell_type": "markdown",
   "metadata": {},
   "source": [
    "## Sources\n",
    "\n",
    "\n",
    "- https://www.mygreatlearning.com/blog/understanding-data-augmentation/\n",
    "- https://research.aimultiple.com/data-augmentation/\n",
    "- https://snapstack.cz/data-augmentation-advantages-challenges-and-instances/\n",
    "- https://research.aimultiple.com/data-augmentation/\n",
    "- https://towardsdatascience.com/a-comprehensive-guide-to-image-augmentation-using-pytorch-fb162f2444be\n",
    "- https://nanonets.com/blog/data-augmentation-how-to-use-deep-learning-when-you-have-limited-data-part-2/\n",
    "- https://towardsdatascience.com/data-augmentation-techniques-in-python-f216ef5eed69#:~:text=Online%20or%20real%2Dtime%20Augmentation&text=Online%20augmentation%20model%20will%20see,on%20the%20number%20of%20epochs.\n",
    "- https://towardsdatascience.com/baseline-models-your-guide-for-model-building-1ec3aa244b8d <br>\n",
    "- https://towardsai.net/p/l/what-are-baseline-models-and-benchmarking-for-machine-learning-why-we-need-them\n",
    "- https://pytorch.org/vision/stable/transforms.html\n",
    "- https://blog.insightdatascience.com/always-start-with-a-stupid-model-no-exceptions-3a22314b9aaa"
   ]
  },
  {
   "cell_type": "markdown",
   "metadata": {},
   "source": []
  },
  {
   "cell_type": "markdown",
   "metadata": {},
   "source": []
  }
 ],
 "metadata": {
  "kernelspec": {
   "display_name": "Python 3 (ipykernel)",
   "language": "python",
   "name": "python3"
  },
  "language_info": {
   "codemirror_mode": {
    "name": "ipython",
    "version": 3
   },
   "file_extension": ".py",
   "mimetype": "text/x-python",
   "name": "python",
   "nbconvert_exporter": "python",
   "pygments_lexer": "ipython3",
   "version": "3.10.4"
  },
  "vscode": {
   "interpreter": {
    "hash": "75993ab2b49036cadd476b97bc353bfc628d81ff23efd854332b94743c4a2258"
   }
  }
 },
 "nbformat": 4,
 "nbformat_minor": 2
}
